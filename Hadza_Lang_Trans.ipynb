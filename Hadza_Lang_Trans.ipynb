{
  "cells": [
    {
      "cell_type": "markdown",
      "metadata": {
        "id": "view-in-github",
        "colab_type": "text"
      },
      "source": [
        "<a href=\"https://colab.research.google.com/github/earl562/Hadza_Translation/blob/main/Hadza_Lang_Trans.ipynb\" target=\"_parent\"><img src=\"https://colab.research.google.com/assets/colab-badge.svg\" alt=\"Open In Colab\"/></a>"
      ]
    },
    {
      "cell_type": "markdown",
      "source": [
        "##**Hadza Language Translation| GPU POOR 😞|Experimentation on Google Colab**\n",
        "Before deploying the application, it's crucial to experiment and validate your models in a high-performance environment. Google Colab offers GPU resources that can expedite model training and evaluation."
      ],
      "metadata": {
        "id": "sXia_gCxBns1"
      }
    },
    {
      "cell_type": "markdown",
      "source": [
        "pip install neccessary libraries.\n",
        "\n",
        "**Tip 💸: It helps to use -q at the end of your pip install to reduce clutter.**"
      ],
      "metadata": {
        "id": "Vh6HyIV1CaxW"
      }
    },
    {
      "cell_type": "code",
      "execution_count": null,
      "metadata": {
        "colab": {
          "base_uri": "https://localhost:8080/"
        },
        "id": "Zcy6jkbLnKQ_",
        "outputId": "82924ebe-5470-4bc0-e941-6f8446a05b10"
      },
      "outputs": [
        {
          "output_type": "stream",
          "name": "stdout",
          "text": [
            "\u001b[?25l   \u001b[90m━━━━━━━━━━━━━━━━━━━━━━━━━━━━━━━━━━━━━━━━\u001b[0m \u001b[32m0.0/84.0 kB\u001b[0m \u001b[31m?\u001b[0m eta \u001b[36m-:--:--\u001b[0m\r\u001b[2K   \u001b[91m━━━━━━━━━━━━━━━━━━━━━━━━━━━━━━━━━━━━━━━\u001b[0m\u001b[90m╺\u001b[0m \u001b[32m81.9/84.0 kB\u001b[0m \u001b[31m2.5 MB/s\u001b[0m eta \u001b[36m0:00:01\u001b[0m\r\u001b[2K   \u001b[90m━━━━━━━━━━━━━━━━━━━━━━━━━━━━━━━━━━━━━━━━\u001b[0m \u001b[32m84.0/84.0 kB\u001b[0m \u001b[31m1.6 MB/s\u001b[0m eta \u001b[36m0:00:00\u001b[0m\n",
            "\u001b[?25h"
          ]
        }
      ],
      "source": [
        "!pip install transformers datasets torch evaluate pinecone-client arize chainlit -q"
      ]
    },
    {
      "cell_type": "code",
      "execution_count": null,
      "metadata": {
        "id": "oiDr0c0VnN8v"
      },
      "outputs": [],
      "source": [
        "# Import necessary libraries\n",
        "from transformers import XLMRobertaTokenizer, XLMRobertaForSequenceClassification\n",
        "\n",
        "# Load Swahili-English tokenizer and model\n",
        "swahili_tokenizer = XLMRobertaTokenizer.from_pretrained('xlm-roberta-base')\n",
        "swahili_to_english_model = XLMRobertaForSequenceClassification.from_pretrained('swahili-english-model-path')\n",
        "\n",
        "# Load Hadza-Swahili tokenizer and model\n",
        "hadza_tokenizer = XLMRobertaTokenizer.from_pretrained('xlm-roberta-base')\n",
        "hadza_to_swahili_model = XLMRobertaForSequenceClassification.from_pretrained('hadza-swahili-model-path')\n",
        "\n"
      ]
    },
    {
      "cell_type": "code",
      "source": [
        "from datasets import load_dataset\n",
        "from transformers import DataCollatorWithPadding\n",
        "\n",
        "# Load your Hadza-Swahili dataset\n",
        "hadza_swahili_dataset = load_dataset('csv', data_files={'train': 'hadza_swahili_train.csv', 'validation': 'hadza_swahili_validation.csv'})\n",
        "\n",
        "# Initialize the tokenizer\n",
        "tokenizer = hadza_tokenizer\n",
        "\n",
        "# Tokenize the dataset\n",
        "def tokenize_hadza_swahili(examples):\n",
        "    return tokenizer(examples['source'], truncation=True, padding='max_length', max_length=128)\n",
        "\n",
        "tokenized_hadza_swahili = hadza_swahili_dataset.map(tokenize_hadza_swahili, batched=True)\n",
        "\n",
        "# Data collator\n",
        "data_collator = DataCollatorWithPadding(tokenizer=tokenizer)\n"
      ],
      "metadata": {
        "id": "xmssG0TWBHg7"
      },
      "execution_count": null,
      "outputs": []
    },
    {
      "cell_type": "code",
      "source": [
        "from transformers import Trainer, TrainingArguments\n",
        "\n",
        "# Define training arguments\n",
        "training_args = TrainingArguments(\n",
        "    output_dir='./results_hadza_swahili',\n",
        "    evaluation_strategy='epoch',\n",
        "    learning_rate=2e-5,\n",
        "    per_device_train_batch_size=16,\n",
        "    per_device_eval_batch_size=16,\n",
        "    num_train_epochs=3,\n",
        "    weight_decay=0.01,\n",
        ")\n",
        "\n",
        "# Initialize Trainer\n",
        "trainer_hadza_swahili = Trainer(\n",
        "    model=hadza_to_swahili_model,\n",
        "    args=training_args,\n",
        "    train_dataset=tokenized_hadza_swahili['train'],\n",
        "    eval_dataset=tokenized_hadza_swahili['validation'],\n",
        "    tokenizer=tokenizer,\n",
        "    data_collator=data_collator,\n",
        ")\n",
        "\n",
        "# Start training\n",
        "trainer_hadza_swahili.train()\n",
        "\n",
        "hadza_to_swahili_model.save_pretrained('fine-tuned-hadza-swahili')\n",
        "hadza_tokenizer.save_pretrained('fine-tuned-hadza-swahili')\n",
        "\n"
      ],
      "metadata": {
        "id": "bipHAJlGBHUa"
      },
      "execution_count": null,
      "outputs": []
    },
    {
      "cell_type": "code",
      "source": [],
      "metadata": {
        "id": "-RH5ip1Umlxz"
      },
      "execution_count": null,
      "outputs": []
    }
  ],
  "metadata": {
    "accelerator": "GPU",
    "colab": {
      "gpuType": "T4",
      "provenance": [],
      "authorship_tag": "ABX9TyMhxkMAH+/n3yF0EeCYkh+y",
      "include_colab_link": true
    },
    "kernelspec": {
      "display_name": "Python 3",
      "name": "python3"
    },
    "language_info": {
      "name": "python"
    }
  },
  "nbformat": 4,
  "nbformat_minor": 0
}